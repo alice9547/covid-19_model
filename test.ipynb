{
 "cells": [
  {
   "cell_type": "code",
   "execution_count": 1,
   "id": "cf1dd892-00ea-4b07-af33-2d916049c5f9",
   "metadata": {},
   "outputs": [],
   "source": [
    "test = \"테스트입니당~\""
   ]
  },
  {
   "cell_type": "code",
   "execution_count": 2,
   "id": "c2bf4336-507a-4de6-b016-f108e068a74d",
   "metadata": {},
   "outputs": [
    {
     "data": {
      "text/plain": [
       "'테스트입니당~'"
      ]
     },
     "execution_count": 2,
     "metadata": {},
     "output_type": "execute_result"
    }
   ],
   "source": [
    "test"
   ]
  },
  {
   "cell_type": "code",
   "execution_count": null,
   "id": "3ed0eb6e-28b9-42e5-b0fe-9a68c956577f",
   "metadata": {},
   "outputs": [],
   "source": []
  }
 ],
 "metadata": {
  "kernelspec": {
   "display_name": "itstartup",
   "language": "python",
   "name": "itstartup"
  },
  "language_info": {
   "codemirror_mode": {
    "name": "ipython",
    "version": 3
   },
   "file_extension": ".py",
   "mimetype": "text/x-python",
   "name": "python",
   "nbconvert_exporter": "python",
   "pygments_lexer": "ipython3",
   "version": "3.8.8"
  }
 },
 "nbformat": 4,
 "nbformat_minor": 5
}
