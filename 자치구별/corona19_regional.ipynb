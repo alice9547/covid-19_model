{
 "cells": [
  {
   "cell_type": "markdown",
   "id": "d1feaf36-46ec-4b90-97ae-65f95437c3e0",
   "metadata": {},
   "source": [
    "# 자치구별 코로나 확진자 예측"
   ]
  },
  {
   "cell_type": "markdown",
   "id": "fca68032-a8aa-431a-8198-c35c926efbb7",
   "metadata": {},
   "source": [
    "## [ 서울 열린 데이터 광장 ] \n",
    "### 서울특별시 코로나19 자치구별 확진자 발생동향 API\n",
    "https://data.seoul.go.kr/dataList/OA-20470/S/1/datasetView.do"
   ]
  },
  {
   "cell_type": "markdown",
   "id": "6cddb3cc-0575-463d-81a0-7cfd34c00195",
   "metadata": {},
   "source": [
    "💡 본 프로그램은 https://github.com/kairess/corona-virus-prediction 의 응용임을 밝힙니다."
   ]
  },
  {
   "cell_type": "code",
   "execution_count": 1,
   "id": "5a76b3d8-aae4-41e0-99e6-b2b5e69d0751",
   "metadata": {},
   "outputs": [],
   "source": [
    "# 필요 라이브러리 불러오기\n",
    "import requests # API를 사용하기 위한 모듈\n",
    "from bs4 import BeautifulSoup # 텍스트 형태의 HTML과 XML에서 데이터를 추출하기 위한 라이브러리\n",
    "import pandas as pd # 텍스트 입출력 및 데이터프레임 가공이 가능 한 라이브러리\n",
    "\n",
    "import plotly.graph_objs as go # 그래프 라이브러리\n",
    "import plotly.offline as py\n",
    "from fbprophet import Prophet # 시계열 예측 라이브러리\n",
    "from fbprophet.plot import plot_plotly, add_changepoints_to_plot\n",
    "import json, urllib.request\n",
    "import requests\n",
    "import csv\n",
    "\n",
    "import numpy as np #행렬이나 다차원 배열을 처리할때 사용하는 라이브러리"
   ]
  },
  {
   "cell_type": "markdown",
   "id": "b9d81018-5b98-4ba0-9d11-136e3207b029",
   "metadata": {},
   "source": [
    "#### 공공데이터 포털 API"
   ]
  },
  {
   "cell_type": "code",
   "execution_count": 17,
   "id": "80f422af-beef-4532-89c7-245de8542368",
   "metadata": {},
   "outputs": [],
   "source": [
    "#ServiceKey = 'dypF53MOyB5SvOwH2UtPxnT4vEggzFRRQrSIAV%2BZW3%2FNurg6Mo4Zl5DxsNjqCDHxBVE5hcadyB1%2FxU92iwPtgA%3D%3D'\n",
    "#url = \"http://openapi.data.go.kr/openapi/service/rest/Covid19/getCovid19SidoInfStateJson?serviceKey=\"\n",
    "#api_url = url + ServiceKey"
   ]
  },
  {
   "cell_type": "markdown",
   "id": "ca6bb6c0-d930-4a34-9991-1e6d3eddb3b5",
   "metadata": {},
   "source": [
    "#### 서울데이터열린광장 API"
   ]
  },
  {
   "cell_type": "code",
   "execution_count": 18,
   "id": "42b61f90-19f7-427a-bdb2-c2c9b735e148",
   "metadata": {},
   "outputs": [],
   "source": [
    "ServiceKey = '74766d63646e61793639476a424f51' # API 인증키\n",
    "url = \"http://openAPI.seoul.go.kr:8088/\"+ ServiceKey + \"/json/TbCorona19CountStatusJCG/1/550/\"\n",
    "# api_url의 \"/xml/TbCorona19CountStatusJCG/1/5/\"에서 '5'부분은 가져올 데이터 수. 조절하여 가져올 수 있다."
   ]
  },
  {
   "cell_type": "code",
   "execution_count": 22,
   "id": "69dc57dd-6701-41dc-b61a-76eb2304165a",
   "metadata": {},
   "outputs": [],
   "source": [
    "data = urllib.request.urlopen(url).read()\n",
    "\n",
    "#받아온 json 데이터 특정하기\n",
    "output = json.loads(data)\n",
    "output = output['TbCorona19CountStatusJCG']\n",
    "output = output['row']\n",
    "\n",
    "output_file = 'api_regional.csv'\n",
    "\n",
    "#CSV파일 제작\n",
    "\n",
    "try :\n",
    "    with open(output_file, 'w', newline='', encoding='UTF-8') as csvfile :\n",
    "        writer = csv.DictWriter(csvfile, output[0].keys())\n",
    "        writer.writeheader()\n",
    "        for data in output:\n",
    "            writer.writerow(data)\n",
    "except :\n",
    "    print(\"Error\")"
   ]
  },
  {
   "cell_type": "code",
   "execution_count": null,
   "id": "ee76fd61-ecce-4a24-94a5-6472ec8a696f",
   "metadata": {},
   "outputs": [],
   "source": []
  }
 ],
 "metadata": {
  "kernelspec": {
   "display_name": "[Class B]",
   "language": "python",
   "name": "b201912061"
  },
  "language_info": {
   "codemirror_mode": {
    "name": "ipython",
    "version": 3
   },
   "file_extension": ".py",
   "mimetype": "text/x-python",
   "name": "python",
   "nbconvert_exporter": "python",
   "pygments_lexer": "ipython3",
   "version": "3.8.11"
  }
 },
 "nbformat": 4,
 "nbformat_minor": 5
}
